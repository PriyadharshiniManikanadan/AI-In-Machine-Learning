{
 "cells": [
  {
   "cell_type": "markdown",
   "id": "eabd2a3b-aa95-4ddf-b338-c90b8e63da99",
   "metadata": {},
   "source": [
    "## Deployment - Phase 2"
   ]
  },
  {
   "cell_type": "markdown",
   "id": "46642fec-c655-4c8c-979f-982493d1a34f",
   "metadata": {},
   "source": [
    "### Random Forest Regression"
   ]
  },
  {
   "cell_type": "code",
   "execution_count": null,
   "id": "3d9e1a0b-c2c3-4bb7-b221-19dbefedd07e",
   "metadata": {},
   "outputs": [],
   "source": [
    "import pickle"
   ]
  },
  {
   "cell_type": "markdown",
   "id": "ccca8423-ecbb-4735-91e0-939f3b8a2ec4",
   "metadata": {},
   "source": [
    "### Load the best model "
   ]
  },
  {
   "cell_type": "code",
   "execution_count": 4,
   "id": "038870ce-9fb1-42a7-8b1e-75a0f5047280",
   "metadata": {},
   "outputs": [],
   "source": [
    "load_model = pickle.load(open(\"Final_RandomForest_model.sav\",'rb'))"
   ]
  },
  {
   "cell_type": "markdown",
   "id": "9fdcf848-c0b0-45b2-a29e-7ce564b2575b",
   "metadata": {},
   "source": [
    "### Inputs from Users"
   ]
  },
  {
   "cell_type": "code",
   "execution_count": 5,
   "id": "8c05fcd2-9429-48b9-84b5-c305c2b07a97",
   "metadata": {},
   "outputs": [
    {
     "name": "stderr",
     "output_type": "stream",
     "text": [
      "C:\\Anaconda3\\Lib\\site-packages\\sklearn\\base.py:493: UserWarning: X does not have valid feature names, but RandomForestRegressor was fitted with feature names\n",
      "  warnings.warn(\n"
     ]
    }
   ],
   "source": [
    "result = load_model.predict([[23654,25698,25478,1,0]])"
   ]
  },
  {
   "cell_type": "markdown",
   "id": "6830b448-9c4d-4c2d-8fde-98bbdc693f20",
   "metadata": {},
   "source": [
    "### Prediction"
   ]
  },
  {
   "cell_type": "code",
   "execution_count": 6,
   "id": "615e060b-7bf8-4573-abf8-0dfc4e3fce65",
   "metadata": {},
   "outputs": [
    {
     "data": {
      "text/plain": [
       "array([66208.09534])"
      ]
     },
     "execution_count": 6,
     "metadata": {},
     "output_type": "execute_result"
    }
   ],
   "source": [
    "result"
   ]
  },
  {
   "cell_type": "markdown",
   "id": "7b02cfe8-3ebf-4e1a-8b96-63d0710613ad",
   "metadata": {},
   "source": [
    "### Call to Action"
   ]
  },
  {
   "cell_type": "code",
   "execution_count": null,
   "id": "3d763e12-0a10-41cb-a3f4-cd561520dd16",
   "metadata": {},
   "outputs": [],
   "source": []
  }
 ],
 "metadata": {
  "kernelspec": {
   "display_name": "Python 3 (ipykernel)",
   "language": "python",
   "name": "python3"
  },
  "language_info": {
   "codemirror_mode": {
    "name": "ipython",
    "version": 3
   },
   "file_extension": ".py",
   "mimetype": "text/x-python",
   "name": "python",
   "nbconvert_exporter": "python",
   "pygments_lexer": "ipython3",
   "version": "3.12.4"
  }
 },
 "nbformat": 4,
 "nbformat_minor": 5
}
