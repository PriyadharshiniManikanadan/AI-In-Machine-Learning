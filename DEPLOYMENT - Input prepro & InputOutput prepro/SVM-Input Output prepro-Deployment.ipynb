{
 "cells": [
  {
   "cell_type": "markdown",
   "id": "8ff89ee4-ebe4-496b-8718-bc19c388b69d",
   "metadata": {},
   "source": [
    "## Deployment (SVM-Input prepro) "
   ]
  },
  {
   "cell_type": "code",
   "execution_count": 1,
   "id": "8d66694a-d9fb-4f90-98ad-b61ef80a7c7d",
   "metadata": {},
   "outputs": [],
   "source": [
    "import pandas as pd\n",
    "dataset_raw = pd.read_csv(\"50_Startups.csv\")\n",
    "dataset = pd.get_dummies(dataset_raw,dtype = int, drop_first = True)\n",
    "independent = dataset[['R&D Spend', 'Administration', 'Marketing Spend', 'State_Florida', 'State_New York']]\n",
    "dependent = dataset[['Profit']]\n",
    "from sklearn.model_selection import train_test_split\n",
    "x_train,x_test,y_train,y_test = train_test_split(independent,dependent, test_size=0.20,random_state = 0)"
   ]
  },
  {
   "cell_type": "code",
   "execution_count": 2,
   "id": "9e9d6ec0-1cce-411c-87d4-64b2fc75ca47",
   "metadata": {},
   "outputs": [],
   "source": [
    "from sklearn.preprocessing import StandardScaler\n",
    "SC = StandardScaler()\n",
    "x_train = SC.fit_transform(x_train)\n",
    "x_test = SC.transform(x_test)"
   ]
  },
  {
   "cell_type": "code",
   "execution_count": 3,
   "id": "a789a7bc-f164-43e5-85b0-169f4ed7c1ab",
   "metadata": {},
   "outputs": [],
   "source": [
    "SCY = StandardScaler()\n",
    "y_train = SCY.fit_transform(y_train)\n",
    "y_test = SCY.transform(y_test)"
   ]
  },
  {
   "cell_type": "code",
   "execution_count": 10,
   "id": "56855f69-3fcd-45c3-9266-84d0cf68d7fd",
   "metadata": {},
   "outputs": [
    {
     "name": "stderr",
     "output_type": "stream",
     "text": [
      "C:\\Anaconda3\\Lib\\site-packages\\sklearn\\base.py:493: UserWarning: X does not have valid feature names, but StandardScaler was fitted with feature names\n",
      "  warnings.warn(\n"
     ]
    },
    {
     "data": {
      "text/plain": [
       "array([[-1.51902308, -3.77376054, -1.62514684, -0.57735027,  1.36277029]])"
      ]
     },
     "execution_count": 10,
     "metadata": {},
     "output_type": "execute_result"
    }
   ],
   "source": [
    "import pickle\n",
    "preproInput = SC.transform([[1500,25698,1500,0,1]])\n",
    "preproInput"
   ]
  },
  {
   "cell_type": "code",
   "execution_count": 11,
   "id": "3d04c2ce-4e28-4645-987b-04d4c560b9da",
   "metadata": {},
   "outputs": [
    {
     "data": {
      "text/plain": [
       "array([-1.56618212])"
      ]
     },
     "execution_count": 11,
     "metadata": {},
     "output_type": "execute_result"
    }
   ],
   "source": [
    "load_model = pickle.load(open(\"Final_SVMinputPrepro_model.sav\",'rb'))\n",
    "result = load_model.predict(preproInput)\n",
    "result"
   ]
  },
  {
   "cell_type": "code",
   "execution_count": 18,
   "id": "ff7129f9-b09c-4794-83f9-5d89b037be5a",
   "metadata": {},
   "outputs": [
    {
     "data": {
      "text/plain": [
       "array([[46069.82950242]])"
      ]
     },
     "execution_count": 18,
     "metadata": {},
     "output_type": "execute_result"
    }
   ],
   "source": [
    "preproOutput = SCY.inverse_transform([result])\n",
    "preproOutput "
   ]
  },
  {
   "cell_type": "code",
   "execution_count": null,
   "id": "925d03f2-e238-407e-9402-860cc38d633c",
   "metadata": {},
   "outputs": [],
   "source": []
  },
  {
   "cell_type": "code",
   "execution_count": null,
   "id": "009faf0c-b846-49c6-ab60-b4b7790f586e",
   "metadata": {},
   "outputs": [],
   "source": []
  }
 ],
 "metadata": {
  "kernelspec": {
   "display_name": "Python 3 (ipykernel)",
   "language": "python",
   "name": "python3"
  },
  "language_info": {
   "codemirror_mode": {
    "name": "ipython",
    "version": 3
   },
   "file_extension": ".py",
   "mimetype": "text/x-python",
   "name": "python",
   "nbconvert_exporter": "python",
   "pygments_lexer": "ipython3",
   "version": "3.12.4"
  }
 },
 "nbformat": 4,
 "nbformat_minor": 5
}
