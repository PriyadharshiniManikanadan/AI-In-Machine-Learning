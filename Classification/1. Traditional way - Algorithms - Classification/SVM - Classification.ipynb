{
 "cells": [
  {
   "cell_type": "markdown",
   "id": "100364e8-ab73-4312-bdcb-778bc89fd865",
   "metadata": {},
   "source": [
    "# Machine Learning - Classsification\n",
    "## Support Vector Classifier\n",
    "### Supports both Regression & Classification Algorithm"
   ]
  },
  {
   "cell_type": "code",
   "execution_count": null,
   "id": "6b82de5e-c780-4764-adb7-b446d1da0814",
   "metadata": {},
   "outputs": [],
   "source": [
    "import pandas as pd"
   ]
  },
  {
   "cell_type": "markdown",
   "id": "8d084e73-c119-495c-b5e2-46e173c793dc",
   "metadata": {},
   "source": [
    "### Data Collection"
   ]
  },
  {
   "cell_type": "code",
   "execution_count": null,
   "id": "8cef627e-71d3-4027-b1b5-efbd9c08971f",
   "metadata": {},
   "outputs": [],
   "source": [
    "dataset = pd.read_csv(\"Social_Network_Ads.csv\")"
   ]
  },
  {
   "cell_type": "code",
   "execution_count": null,
   "id": "94ddadd5-68c6-49c1-9a4e-5b8867dbf670",
   "metadata": {},
   "outputs": [],
   "source": [
    "dataset"
   ]
  },
  {
   "cell_type": "markdown",
   "id": "52e6d214-0541-4d31-94f7-1dc44a5972b7",
   "metadata": {},
   "source": [
    "### Data preprocessing"
   ]
  },
  {
   "cell_type": "code",
   "execution_count": null,
   "id": "b30e3683-43d1-4530-a188-8f1eac74e20e",
   "metadata": {},
   "outputs": [],
   "source": [
    "dataset= pd.get_dummies(dataset,dtype = int,drop_first=True)"
   ]
  },
  {
   "cell_type": "code",
   "execution_count": null,
   "id": "96872667-8172-43d8-ac5f-c88a8f9fde3a",
   "metadata": {},
   "outputs": [],
   "source": [
    "dataset"
   ]
  },
  {
   "cell_type": "markdown",
   "id": "14bdf4af-6377-4940-8f55-de8e4a0ac221",
   "metadata": {},
   "source": [
    "### Check the No of Unique classes and its count"
   ]
  },
  {
   "cell_type": "code",
   "execution_count": null,
   "id": "93ed0124-b800-4cf2-b865-a7bedaad8ee5",
   "metadata": {},
   "outputs": [],
   "source": [
    "dataset['Purchased'].value_counts()"
   ]
  },
  {
   "cell_type": "code",
   "execution_count": null,
   "id": "da241be7-294a-4429-b322-75bc2835daf3",
   "metadata": {},
   "outputs": [],
   "source": [
    "dataset.columns"
   ]
  },
  {
   "cell_type": "markdown",
   "id": "7ae6f1ca-3b4c-41bf-a6e2-5460330e491f",
   "metadata": {},
   "source": [
    "### Input Output split"
   ]
  },
  {
   "cell_type": "code",
   "execution_count": null,
   "id": "f4248fc6-38a2-43f0-bb41-81e3dfdedf2e",
   "metadata": {},
   "outputs": [],
   "source": [
    "indep = dataset[['Age', 'EstimatedSalary', 'Gender_Male']]\n",
    "dep = dataset[['Purchased']]"
   ]
  },
  {
   "cell_type": "code",
   "execution_count": null,
   "id": "c2d3a0b4-3da3-47f0-9fc3-7487f5480028",
   "metadata": {},
   "outputs": [],
   "source": [
    "indep"
   ]
  },
  {
   "cell_type": "code",
   "execution_count": null,
   "id": "915007a3-f879-45d7-9e98-d4657b5274e6",
   "metadata": {},
   "outputs": [],
   "source": [
    "dep"
   ]
  },
  {
   "cell_type": "markdown",
   "id": "9ce7c8c8-a5c0-49ef-8826-f0ad4f21bafc",
   "metadata": {},
   "source": [
    "### Train Test split"
   ]
  },
  {
   "cell_type": "code",
   "execution_count": null,
   "id": "a70938d6-ffc4-4fbb-b4d5-032620d170e0",
   "metadata": {},
   "outputs": [],
   "source": [
    "from sklearn.model_selection import train_test_split\n",
    "X_train,X_test,Y_train,Y_test = train_test_split(indep,dep,test_size=0.2,random_state=0)"
   ]
  },
  {
   "cell_type": "markdown",
   "id": "1b44bb47-eb43-4178-971c-e11f86dbb386",
   "metadata": {},
   "source": [
    "### Standardization"
   ]
  },
  {
   "cell_type": "code",
   "execution_count": null,
   "id": "0a4ade39-e22a-4ce3-86a5-43537053be58",
   "metadata": {},
   "outputs": [],
   "source": [
    "from sklearn.preprocessing import StandardScaler\n",
    "SC = StandardScaler()\n",
    "X_train = SC.fit_transform(X_train)\n",
    "X_test = SC.transform(X_test)"
   ]
  },
  {
   "cell_type": "markdown",
   "id": "adc4c360-3824-412a-a0ba-331c65b2e8e0",
   "metadata": {},
   "source": [
    "### Train Set"
   ]
  },
  {
   "cell_type": "markdown",
   "id": "743555b8-1c4c-4bc1-983d-9ac5f9a734ca",
   "metadata": {},
   "source": [
    "### Model Creation"
   ]
  },
  {
   "cell_type": "code",
   "execution_count": null,
   "id": "db9630ce-b85b-4219-a814-8b86c62ee306",
   "metadata": {},
   "outputs": [],
   "source": [
    "from sklearn.svm import SVC\n",
    "classifier = SVC(kernel = 'rbf')\n",
    "classifier.fit(X_train,Y_train)"
   ]
  },
  {
   "cell_type": "code",
   "execution_count": null,
   "id": "23cae85f-8f7b-4a03-8a3f-599403c3d7ec",
   "metadata": {},
   "outputs": [],
   "source": [
    "classifier.intercept_"
   ]
  },
  {
   "cell_type": "markdown",
   "id": "fcbefa49-b72f-40fb-871f-c11193f258b6",
   "metadata": {},
   "source": [
    "### Test Set"
   ]
  },
  {
   "cell_type": "code",
   "execution_count": null,
   "id": "8aac07f8-6a2e-47e0-9b81-40675fc6bca0",
   "metadata": {},
   "outputs": [],
   "source": [
    "Y_pred = classifier.predict(X_test)"
   ]
  },
  {
   "cell_type": "markdown",
   "id": "12eaffc5-622a-4464-bb9f-bdeb30b1a842",
   "metadata": {},
   "source": [
    "### Evaluation Metrics \n",
    "### Confusion Matix"
   ]
  },
  {
   "cell_type": "code",
   "execution_count": null,
   "id": "f2f0b805-429f-440f-92f0-dea132ca8a87",
   "metadata": {},
   "outputs": [],
   "source": [
    "from sklearn.metrics import confusion_matrix\n",
    "CM = confusion_matrix(Y_test,Y_pred)"
   ]
  },
  {
   "cell_type": "code",
   "execution_count": null,
   "id": "e8fffaac-7447-40c4-b109-f17a5cf772d8",
   "metadata": {},
   "outputs": [],
   "source": [
    "CM"
   ]
  },
  {
   "cell_type": "markdown",
   "id": "9a1e6291-46f9-4428-ad8f-de5ac6d32778",
   "metadata": {},
   "source": [
    "### Evaluate -  Accuracy, Recall, Precision, F1 Score, Macro Average, Weighted Average"
   ]
  },
  {
   "cell_type": "code",
   "execution_count": null,
   "id": "5ba2c83d-27b7-47a8-a430-7cce9ecae14f",
   "metadata": {},
   "outputs": [],
   "source": [
    "from sklearn.metrics import classification_report \n",
    "Class_report = classification_report(Y_test,Y_pred)"
   ]
  },
  {
   "cell_type": "code",
   "execution_count": null,
   "id": "c578143f-d74f-420e-a394-a59ea20b98a6",
   "metadata": {},
   "outputs": [],
   "source": [
    "print(Class_report)"
   ]
  },
  {
   "cell_type": "markdown",
   "id": "a87bd3a9-769a-46f0-b964-b89a41f087df",
   "metadata": {},
   "source": [
    "### Check the Model by getting User Input"
   ]
  },
  {
   "cell_type": "code",
   "execution_count": null,
   "id": "3ddb0d03-cb00-4522-a758-b4e5809b3a70",
   "metadata": {},
   "outputs": [],
   "source": [
    "age_input=float(input(\"Age:\"))\n",
    "salary_input=float(input(\"Salary:\"))\n",
    "sex_male_input=int(input(\"Sex Male 0 or 1:\"))"
   ]
  },
  {
   "cell_type": "code",
   "execution_count": null,
   "id": "201eacbc-680a-4dfa-a6ed-95c5efb4c6b5",
   "metadata": {},
   "outputs": [],
   "source": [
    "classifier.predict([[age_input,salary_input,sex_male_input]])"
   ]
  },
  {
   "cell_type": "markdown",
   "id": "cee64cc9-a347-4243-99ba-0db0df79796a",
   "metadata": {},
   "source": [
    "### Save the Model"
   ]
  },
  {
   "cell_type": "code",
   "execution_count": null,
   "id": "71fe5b5d-496d-492a-bd26-5f7c662dd41b",
   "metadata": {},
   "outputs": [],
   "source": [
    "import pickle\n",
    "file = (\"Final_SVC_Model.sav\")\n",
    "\n",
    "pickle.dump(classifier,open(file,'wb'))"
   ]
  },
  {
   "cell_type": "markdown",
   "id": "a85b9819-973b-44b6-b6f5-3856ecaaf1c2",
   "metadata": {},
   "source": [
    "### Get User Input and check"
   ]
  },
  {
   "cell_type": "code",
   "execution_count": null,
   "id": "5c9f1f7c-222c-4265-8acb-e4eb22ec2259",
   "metadata": {},
   "outputs": [],
   "source": [
    "load_model = pickle.load(open(\"Final_SVC_Model.sav\",'rb'))\n",
    "load_model"
   ]
  },
  {
   "cell_type": "code",
   "execution_count": null,
   "id": "ec06f933-5b59-40f0-8e86-bd78a05ac83f",
   "metadata": {},
   "outputs": [],
   "source": [
    "Prediction = load_model.predict([[50,20000,0]])\n",
    "Prediction"
   ]
  },
  {
   "cell_type": "code",
   "execution_count": null,
   "id": "ec1ed90c-494f-4d56-a909-81a98eb9e585",
   "metadata": {},
   "outputs": [],
   "source": []
  }
 ],
 "metadata": {
  "kernelspec": {
   "display_name": "Python 3 (ipykernel)",
   "language": "python",
   "name": "python3"
  },
  "language_info": {
   "codemirror_mode": {
    "name": "ipython",
    "version": 3
   },
   "file_extension": ".py",
   "mimetype": "text/x-python",
   "name": "python",
   "nbconvert_exporter": "python",
   "pygments_lexer": "ipython3",
   "version": "3.12.4"
  }
 },
 "nbformat": 4,
 "nbformat_minor": 5
}
