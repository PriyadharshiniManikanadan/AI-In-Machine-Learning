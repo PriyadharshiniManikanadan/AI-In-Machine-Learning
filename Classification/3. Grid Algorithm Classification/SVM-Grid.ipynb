{
 "cells": [
  {
   "cell_type": "markdown",
   "id": "131dd15e-0391-4d17-8122-ef86290fc1d1",
   "metadata": {},
   "source": [
    "## Classification Algorithm\n",
    "## SVM - Grid"
   ]
  },
  {
   "cell_type": "code",
   "execution_count": null,
   "id": "4cb5ce99-0199-4a0d-81f0-f8d080da25f1",
   "metadata": {},
   "outputs": [],
   "source": [
    "import pandas as pd"
   ]
  },
  {
   "cell_type": "markdown",
   "id": "045b8b6d-b67f-4ae7-947c-84a6376151cb",
   "metadata": {},
   "source": [
    "### Data collection"
   ]
  },
  {
   "cell_type": "code",
   "execution_count": null,
   "id": "261d0063-22c9-4a34-a252-1bfd58be2fbd",
   "metadata": {},
   "outputs": [],
   "source": [
    "dataset = pd.read_csv('Social_Network_Ads.csv')"
   ]
  },
  {
   "cell_type": "code",
   "execution_count": null,
   "id": "0e9e47a9-31f7-4cc5-b912-6a404bd193c2",
   "metadata": {},
   "outputs": [],
   "source": [
    "dataset"
   ]
  },
  {
   "cell_type": "markdown",
   "id": "6c928270-e069-405f-970b-df36da7052ff",
   "metadata": {},
   "source": [
    "### Data preprocessing"
   ]
  },
  {
   "cell_type": "code",
   "execution_count": null,
   "id": "80fdcf17-8ff2-4360-9bb1-632b247a6ec0",
   "metadata": {},
   "outputs": [],
   "source": [
    "dataset=pd.get_dummies(dataset,dtype=int,drop_first=True)"
   ]
  },
  {
   "cell_type": "code",
   "execution_count": null,
   "id": "2014d68d-d0c4-45a4-84e5-6596d6bd69d9",
   "metadata": {},
   "outputs": [],
   "source": [
    "dataset"
   ]
  },
  {
   "cell_type": "code",
   "execution_count": null,
   "id": "074724f3-5b6c-47f3-a012-530329d66a3b",
   "metadata": {},
   "outputs": [],
   "source": [
    "dataset.shape"
   ]
  },
  {
   "cell_type": "code",
   "execution_count": null,
   "id": "0ef291bd-2d3b-4c0e-b7cc-8f229aa45e32",
   "metadata": {},
   "outputs": [],
   "source": [
    "dataset = dataset.drop('User ID', axis=1)"
   ]
  },
  {
   "cell_type": "markdown",
   "id": "62ff6b87-e185-4077-b85f-31303a9c031e",
   "metadata": {},
   "source": [
    "### Check the No of Unique classes and its count"
   ]
  },
  {
   "cell_type": "code",
   "execution_count": null,
   "id": "c4010a6e-da61-4c59-bf16-48f760ea2dba",
   "metadata": {},
   "outputs": [],
   "source": [
    "dataset['Purchased'].value_counts()"
   ]
  },
  {
   "cell_type": "markdown",
   "id": "a7edf9b7-39e1-4aa3-a87b-d111154aac44",
   "metadata": {},
   "source": [
    "### Input Output Split"
   ]
  },
  {
   "cell_type": "code",
   "execution_count": null,
   "id": "a530b5c2-6a3c-4e09-8115-a5bb7fffa419",
   "metadata": {},
   "outputs": [],
   "source": [
    "indep = dataset[['Age','EstimatedSalary','Gender_Male']]\n",
    "dep = dataset[['Purchased']]"
   ]
  },
  {
   "cell_type": "markdown",
   "id": "fe4eebad-809b-4913-860f-046355c6a391",
   "metadata": {},
   "source": [
    "### Train Test Split"
   ]
  },
  {
   "cell_type": "code",
   "execution_count": null,
   "id": "8dee7bba-b904-468e-9293-6dee58c60941",
   "metadata": {},
   "outputs": [],
   "source": [
    "from sklearn.model_selection import train_test_split\n",
    "X_train,X_test,Y_train,Y_test = train_test_split(indep,dep,test_size=0.20,random_state=0)"
   ]
  },
  {
   "cell_type": "markdown",
   "id": "17b40148-f383-4721-8371-ecce1b0d791a",
   "metadata": {},
   "source": [
    "### Standardization"
   ]
  },
  {
   "cell_type": "code",
   "execution_count": null,
   "id": "2f5ddd09-e9a9-4465-8ef8-9076dc9d201d",
   "metadata": {},
   "outputs": [],
   "source": [
    "from sklearn.preprocessing import StandardScaler\n",
    "SC = StandardScaler()\n",
    "X_train = SC.fit_transform(X_train)\n",
    "X_test = SC.transform(X_test)"
   ]
  },
  {
   "cell_type": "code",
   "execution_count": null,
   "id": "14a3135e-889a-4009-b6f6-89071d577010",
   "metadata": {
    "scrolled": true
   },
   "outputs": [],
   "source": [
    "X_train"
   ]
  },
  {
   "cell_type": "markdown",
   "id": "1826e9e4-cd00-4262-8132-1d3c54cd0cb5",
   "metadata": {},
   "source": [
    "### Train Set"
   ]
  },
  {
   "cell_type": "markdown",
   "id": "e1dff6ef-17a4-40f8-ae3c-0b63760f6270",
   "metadata": {},
   "source": [
    "### Model Creation in GridSearchCV"
   ]
  },
  {
   "cell_type": "code",
   "execution_count": null,
   "id": "3d32489d-cd3e-42fa-87c4-33f7fc0bfeb8",
   "metadata": {
    "scrolled": true
   },
   "outputs": [],
   "source": [
    "from sklearn.model_selection import GridSearchCV\n",
    "from sklearn.svm import SVC\n",
    "\n",
    "# param_grid - This enables searching over any sequence of parameter settings.\n",
    "# Scoring - Strategy to evaluate the performance of the cross-validated model on the test set.\n",
    "# n_jobs - -1 means using all processors\n",
    "# CV - Determines the cross-validation splitting strategy\n",
    "\n",
    "param_grid = {'kernel':['linear','rbf','poly','sigmoid'],\n",
    "              'C' : [1,10,100,1000,2000,3000], \n",
    "              'gamma' : ['scale','auto']}\n",
    "\n",
    "grid = GridSearchCV(SVC(probability=True), param_grid, refit = True,verbose = 3, n_jobs=-1,scoring = 'f1_weighted')\n",
    "\n",
    "grid.fit(X_train,Y_train)"
   ]
  },
  {
   "cell_type": "markdown",
   "id": "70ab51b3-5f45-4802-8250-6e6c6dddd192",
   "metadata": {},
   "source": [
    "### Test Set"
   ]
  },
  {
   "cell_type": "markdown",
   "id": "33d43637-6018-4218-b9b9-db27e09dae6b",
   "metadata": {},
   "source": [
    "### Evaluation Metrics \n",
    "### Confusion Matix\n",
    "### Classification Report"
   ]
  },
  {
   "cell_type": "code",
   "execution_count": null,
   "id": "affda433-9747-411c-b757-0d1e6afebedb",
   "metadata": {},
   "outputs": [],
   "source": [
    "# print the best parameter after tuning\n",
    "results = grid.cv_results_\n",
    "\n",
    "grid_predictions = grid.predict(X_test)\n",
    "\n",
    "from sklearn.metrics import confusion_matrix\n",
    "CM = confusion_matrix(Y_test,grid_predictions)\n",
    "\n",
    "from sklearn.metrics import classification_report\n",
    "Clf_report = classification_report(Y_test,grid_predictions)"
   ]
  },
  {
   "cell_type": "code",
   "execution_count": null,
   "id": "8e61cc74-0012-498d-a6d7-3fa4edc3eb2a",
   "metadata": {},
   "outputs": [],
   "source": [
    "print(\"Confusion Matrix:\\n\",CM)"
   ]
  },
  {
   "cell_type": "code",
   "execution_count": null,
   "id": "c96a2bad-3c1b-4353-9e00-ed8570912e71",
   "metadata": {},
   "outputs": [],
   "source": [
    "print(\"Classification Report:\\n\",Clf_report)"
   ]
  },
  {
   "cell_type": "markdown",
   "id": "d6fe410d-9928-4b04-85eb-07fe6de3b6e6",
   "metadata": {},
   "source": [
    "### ADDITIONAL : Check for the best params & f1_score "
   ]
  },
  {
   "cell_type": "code",
   "execution_count": null,
   "id": "89dad7af-e7fe-48c0-bbbb-6d2b86eef820",
   "metadata": {},
   "outputs": [],
   "source": [
    "from sklearn.metrics import f1_score\n",
    "\n",
    "# Parameters : average{‘micro’, ‘macro’, ‘samples’, ‘weighted’, ‘binary\n",
    "f1_macro_ave = f1_score(Y_test,grid_predictions, average='macro')\n",
    "\n",
    "print('f1_macro_value of best parameter{}:'.format(grid.best_params_),f1_macro_ave)"
   ]
  },
  {
   "cell_type": "markdown",
   "id": "942be773-5f19-4ff3-9d04-271c3091326d",
   "metadata": {},
   "source": [
    "### ADDITIONAL : Check roc_auc_score -Receiver Operating Characterstic (Area Under Curve)"
   ]
  },
  {
   "cell_type": "code",
   "execution_count": null,
   "id": "504b1e1a-b081-4fed-b52e-173de3334767",
   "metadata": {},
   "outputs": [],
   "source": [
    "# ROC_AUC : A performance metric used primarily for binary classification problems to evaluate the quality of a classification model.\n",
    "\n",
    "from sklearn.metrics import roc_auc_score\n",
    "roc_auc_score(Y_test,grid.predict_proba(X_test)[:,1])"
   ]
  },
  {
   "cell_type": "markdown",
   "id": "58ab81c8-a642-429d-97c4-7f8ec4524d08",
   "metadata": {},
   "source": [
    "### Tabulation of Parameters in GridSearchCV"
   ]
  },
  {
   "cell_type": "code",
   "execution_count": null,
   "id": "bd5e2788-6833-4e54-932e-3632402feeae",
   "metadata": {
    "scrolled": true
   },
   "outputs": [],
   "source": [
    "Table=pd.DataFrame(results)\n",
    "Table"
   ]
  },
  {
   "cell_type": "markdown",
   "id": "4c8f5bad-7cd1-46c8-b73b-94ae4f16b4b8",
   "metadata": {},
   "source": [
    "### Check the Model by getting User Input"
   ]
  },
  {
   "cell_type": "code",
   "execution_count": null,
   "id": "845a3447-68c9-4397-9517-7cbd6acbf793",
   "metadata": {},
   "outputs": [],
   "source": [
    "Age_input = int(input(\"AGE: \"))\n",
    "Salary_input = int(input(\"Salary: \"))\n",
    "Gender_input = int(input(\"Gender Male 0 or 1: \"))"
   ]
  },
  {
   "cell_type": "markdown",
   "id": "a3f767c2-aaa3-4f1d-b090-184129569a88",
   "metadata": {},
   "source": [
    "### Prediction"
   ]
  },
  {
   "cell_type": "code",
   "execution_count": null,
   "id": "cd77da9b-00ca-483d-821c-13ddd950ccb6",
   "metadata": {},
   "outputs": [],
   "source": [
    "Prediction=grid.predict([[Age_input,Salary_input,Gender_input]]) \n",
    "Prediction\n"
   ]
  },
  {
   "cell_type": "code",
   "execution_count": null,
   "id": "1be119b6-3ee8-4b49-8bc8-9830ec6f1b07",
   "metadata": {},
   "outputs": [],
   "source": []
  }
 ],
 "metadata": {
  "kernelspec": {
   "display_name": "Python 3 (ipykernel)",
   "language": "python",
   "name": "python3"
  },
  "language_info": {
   "codemirror_mode": {
    "name": "ipython",
    "version": 3
   },
   "file_extension": ".py",
   "mimetype": "text/x-python",
   "name": "python",
   "nbconvert_exporter": "python",
   "pygments_lexer": "ipython3",
   "version": "3.12.4"
  }
 },
 "nbformat": 4,
 "nbformat_minor": 5
}
