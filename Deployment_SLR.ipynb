{
 "cells": [
  {
   "cell_type": "markdown",
   "id": "863b7595-687a-4973-a74c-9b4960f390de",
   "metadata": {},
   "source": [
    "### Deployment - Phase 2"
   ]
  },
  {
   "cell_type": "markdown",
   "id": "cbd6e5b3-2413-45e8-b805-ed3b14a596c4",
   "metadata": {},
   "source": [
    "### Simple Linear Regression -  Production / Implementation "
   ]
  },
  {
   "cell_type": "code",
   "execution_count": 1,
   "id": "e8dcf9f6-384d-438a-9988-58b49d36e8b4",
   "metadata": {},
   "outputs": [],
   "source": [
    "# Pickle is a Python library that stores files with the '.sav' extension\n",
    "import pickle"
   ]
  },
  {
   "cell_type": "markdown",
   "id": "8b5b3465-020b-44ca-a723-be18ee9cfea6",
   "metadata": {},
   "source": [
    "### Load the best model "
   ]
  },
  {
   "cell_type": "code",
   "execution_count": 2,
   "id": "4a0853cc-5d60-41b0-b2be-af0cd1be0581",
   "metadata": {},
   "outputs": [],
   "source": [
    "# Open and read the file by creating a variable 'load_model'\n",
    "load_model = pickle.load(open(\"Final_SLR_model.sav\",'rb'))"
   ]
  },
  {
   "cell_type": "markdown",
   "id": "0dea49ed-377a-4999-bc6c-17283d0309a6",
   "metadata": {},
   "source": [
    "### Inputs from Users"
   ]
  },
  {
   "cell_type": "code",
   "execution_count": 5,
   "id": "5469edae-51ab-4cc4-9a1d-88bbdd2ea683",
   "metadata": {},
   "outputs": [
    {
     "name": "stderr",
     "output_type": "stream",
     "text": [
      "C:\\Anaconda3\\Lib\\site-packages\\sklearn\\base.py:493: UserWarning: X does not have valid feature names, but LinearRegression was fitted with feature names\n",
      "  warnings.warn(\n"
     ]
    }
   ],
   "source": [
    "result = load_model.predict([[14]])"
   ]
  },
  {
   "cell_type": "markdown",
   "id": "a9cfeec3-bc1e-4542-89a5-443d1effeb79",
   "metadata": {},
   "source": [
    "### Prediction"
   ]
  },
  {
   "cell_type": "code",
   "execution_count": 6,
   "id": "0d5d82eb-0626-438c-a387-6ee8dc2048ef",
   "metadata": {},
   "outputs": [
    {
     "data": {
      "text/plain": [
       "array([[157821.04934791]])"
      ]
     },
     "execution_count": 6,
     "metadata": {},
     "output_type": "execute_result"
    }
   ],
   "source": [
    "result"
   ]
  },
  {
   "cell_type": "markdown",
   "id": "3e6668a3-14a5-4042-827d-697b5f9b2d0a",
   "metadata": {},
   "source": [
    "### Call to Action"
   ]
  },
  {
   "cell_type": "code",
   "execution_count": null,
   "id": "e8edc377-9cfc-48f0-9372-a66a348d58c9",
   "metadata": {},
   "outputs": [],
   "source": []
  }
 ],
 "metadata": {
  "kernelspec": {
   "display_name": "Python 3 (ipykernel)",
   "language": "python",
   "name": "python3"
  },
  "language_info": {
   "codemirror_mode": {
    "name": "ipython",
    "version": 3
   },
   "file_extension": ".py",
   "mimetype": "text/x-python",
   "name": "python",
   "nbconvert_exporter": "python",
   "pygments_lexer": "ipython3",
   "version": "3.12.4"
  }
 },
 "nbformat": 4,
 "nbformat_minor": 5
}
