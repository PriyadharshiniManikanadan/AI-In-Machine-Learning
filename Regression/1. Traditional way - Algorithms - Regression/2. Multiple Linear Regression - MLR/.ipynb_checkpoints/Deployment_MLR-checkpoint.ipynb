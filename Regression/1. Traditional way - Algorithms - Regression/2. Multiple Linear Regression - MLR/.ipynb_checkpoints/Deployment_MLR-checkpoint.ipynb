{
 "cells": [
  {
   "cell_type": "markdown",
   "id": "43b52b4b-bd73-445d-8a37-22af7fbef756",
   "metadata": {},
   "source": [
    "### Deployment - Phase 2"
   ]
  },
  {
   "cell_type": "markdown",
   "id": "e1e4c8c1-745d-4b0e-9ea7-606ac09a0d06",
   "metadata": {},
   "source": [
    "### Multiple Linear Regression "
   ]
  },
  {
   "cell_type": "code",
   "execution_count": 18,
   "id": "2c254fb1-5697-4977-b755-abfa270f9bf0",
   "metadata": {},
   "outputs": [],
   "source": [
    "# # Pickle is a Python library that stores files with the '.sav' extension\n",
    "import pickle"
   ]
  },
  {
   "cell_type": "markdown",
   "id": "751c3d26-af0e-47d3-a8d3-9c7e5f066479",
   "metadata": {},
   "source": [
    "### Load the best model "
   ]
  },
  {
   "cell_type": "code",
   "execution_count": 19,
   "id": "3f023878-9614-49f6-abcd-c074e62ffffa",
   "metadata": {},
   "outputs": [],
   "source": [
    "# # Open and read the file by creating a variable 'MLR_Deployment'\n",
    "MLR_Deployment = pickle.load(open(\"Final_MLR_model.sav\",'rb'))"
   ]
  },
  {
   "cell_type": "markdown",
   "id": "fd3727d9-7bf5-4b2b-bf2d-1c4031874977",
   "metadata": {},
   "source": [
    "### Inputs from Users"
   ]
  },
  {
   "cell_type": "code",
   "execution_count": 23,
   "id": "5414034a-f885-444f-ac05-481721e3674c",
   "metadata": {},
   "outputs": [
    {
     "name": "stderr",
     "output_type": "stream",
     "text": [
      "C:\\Anaconda3\\Lib\\site-packages\\sklearn\\base.py:493: UserWarning: X does not have valid feature names, but LinearRegression was fitted with feature names\n",
      "  warnings.warn(\n"
     ]
    }
   ],
   "source": [
    "result = MLR_Deployment.predict([[12345,123650,23694,0,1]])"
   ]
  },
  {
   "cell_type": "markdown",
   "id": "32738851-73ce-42bc-bda2-3f363908c1d7",
   "metadata": {},
   "source": [
    "### Prediction"
   ]
  },
  {
   "cell_type": "code",
   "execution_count": 24,
   "id": "a83865ba-dde1-42ec-9c60-4e2e7ee90230",
   "metadata": {},
   "outputs": [
    {
     "data": {
      "text/plain": [
       "array([[56940.2957686]])"
      ]
     },
     "execution_count": 24,
     "metadata": {},
     "output_type": "execute_result"
    }
   ],
   "source": [
    "result"
   ]
  },
  {
   "cell_type": "markdown",
   "id": "8a5f5ffd-c3cb-4403-a2dc-b551eb161d06",
   "metadata": {},
   "source": [
    "### Call to Action"
   ]
  },
  {
   "cell_type": "code",
   "execution_count": null,
   "id": "36080808-fddb-43ef-a6db-2b5454c674d5",
   "metadata": {},
   "outputs": [],
   "source": []
  }
 ],
 "metadata": {
  "kernelspec": {
   "display_name": "Python 3 (ipykernel)",
   "language": "python",
   "name": "python3"
  },
  "language_info": {
   "codemirror_mode": {
    "name": "ipython",
    "version": 3
   },
   "file_extension": ".py",
   "mimetype": "text/x-python",
   "name": "python",
   "nbconvert_exporter": "python",
   "pygments_lexer": "ipython3",
   "version": "3.12.4"
  }
 },
 "nbformat": 4,
 "nbformat_minor": 5
}
