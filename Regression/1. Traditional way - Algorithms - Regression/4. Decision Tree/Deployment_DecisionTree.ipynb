{
 "cells": [
  {
   "cell_type": "markdown",
   "id": "ce3d9c29-7cba-475d-908a-fa85a59298e0",
   "metadata": {},
   "source": [
    "## Deployment - Phase 2"
   ]
  },
  {
   "cell_type": "markdown",
   "id": "ed77587d-f860-43e3-89b7-2245f9c8a32a",
   "metadata": {},
   "source": [
    "### Decision Tree Regression"
   ]
  },
  {
   "cell_type": "code",
   "execution_count": 5,
   "id": "85f52b84-ee6d-48ec-a5e2-ee8389d3ae1b",
   "metadata": {},
   "outputs": [],
   "source": [
    "# # Pickle is a Python library that stores files with the '.sav' extension\n",
    "import pickle"
   ]
  },
  {
   "cell_type": "markdown",
   "id": "df7a2e35-924a-41ec-ac06-88bf21c38fe5",
   "metadata": {},
   "source": [
    "### Load the best model "
   ]
  },
  {
   "cell_type": "code",
   "execution_count": 6,
   "id": "ec825fdf-0219-4dc5-be57-131b6ead4b16",
   "metadata": {},
   "outputs": [],
   "source": [
    "load_model = pickle.load(open(\"Final_DecisionTree_model.sav\",'rb'))"
   ]
  },
  {
   "cell_type": "markdown",
   "id": "cd254b97-b67b-4432-a60a-336a73880f0c",
   "metadata": {},
   "source": [
    "### Inputs from Users"
   ]
  },
  {
   "cell_type": "code",
   "execution_count": 7,
   "id": "9b36ffb3-440d-44bb-99aa-7792d44a50ad",
   "metadata": {},
   "outputs": [
    {
     "name": "stderr",
     "output_type": "stream",
     "text": [
      "C:\\Anaconda3\\Lib\\site-packages\\sklearn\\base.py:493: UserWarning: X does not have valid feature names, but DecisionTreeRegressor was fitted with feature names\n",
      "  warnings.warn(\n"
     ]
    }
   ],
   "source": [
    "result=load_model.predict([[12365,23654,25896,0,1]])"
   ]
  },
  {
   "cell_type": "markdown",
   "id": "6f88c3ec-2147-45dd-ae92-984cd08619b6",
   "metadata": {},
   "source": [
    "### Prediction"
   ]
  },
  {
   "cell_type": "code",
   "execution_count": 8,
   "id": "e9dfc7a0-ab85-406b-9b29-f3508325c204",
   "metadata": {},
   "outputs": [
    {
     "data": {
      "text/plain": [
       "array([69758.98])"
      ]
     },
     "execution_count": 8,
     "metadata": {},
     "output_type": "execute_result"
    }
   ],
   "source": [
    "result"
   ]
  },
  {
   "cell_type": "markdown",
   "id": "ab986ac8-d2a3-4bcb-9c55-20f6a5547b36",
   "metadata": {},
   "source": [
    "### Call to Action"
   ]
  },
  {
   "cell_type": "code",
   "execution_count": null,
   "id": "a997b881-6741-4c18-9e3d-4e07b5c31e28",
   "metadata": {},
   "outputs": [],
   "source": []
  }
 ],
 "metadata": {
  "kernelspec": {
   "display_name": "Python 3 (ipykernel)",
   "language": "python",
   "name": "python3"
  },
  "language_info": {
   "codemirror_mode": {
    "name": "ipython",
    "version": 3
   },
   "file_extension": ".py",
   "mimetype": "text/x-python",
   "name": "python",
   "nbconvert_exporter": "python",
   "pygments_lexer": "ipython3",
   "version": "3.12.4"
  }
 },
 "nbformat": 4,
 "nbformat_minor": 5
}
