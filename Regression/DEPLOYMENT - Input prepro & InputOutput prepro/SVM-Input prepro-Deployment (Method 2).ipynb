{
 "cells": [
  {
   "cell_type": "markdown",
   "id": "8ff89ee4-ebe4-496b-8718-bc19c388b69d",
   "metadata": {},
   "source": [
    "## Deployment (SVM-Input prepro) (Method 2)"
   ]
  },
  {
   "cell_type": "code",
   "execution_count": 4,
   "id": "efa66a0b-953b-4564-b86b-2250dc6951dc",
   "metadata": {},
   "outputs": [],
   "source": [
    "import pickle\n",
    "with open('model_scalar.pkl','rb') as file:\n",
    " loaded_model,loaded_scalar = pickle.load(file)"
   ]
  },
  {
   "cell_type": "markdown",
   "id": "16c458e3-0777-4170-a9c1-8958a4980c61",
   "metadata": {},
   "source": [
    "### Get the User Input"
   ]
  },
  {
   "cell_type": "code",
   "execution_count": 5,
   "id": "1a4e80c5-cacf-4040-912a-7210f7300d79",
   "metadata": {},
   "outputs": [],
   "source": [
    "user_input = [[1500,20000,9000,0,1]]"
   ]
  },
  {
   "cell_type": "markdown",
   "id": "92df37ab-fa56-4ef9-a434-588efde70faf",
   "metadata": {},
   "source": [
    "### Preprocess 'user input' in the same way as in the training"
   ]
  },
  {
   "cell_type": "code",
   "execution_count": 6,
   "id": "925d03f2-e238-407e-9402-860cc38d633c",
   "metadata": {},
   "outputs": [
    {
     "name": "stderr",
     "output_type": "stream",
     "text": [
      "C:\\Anaconda3\\Lib\\site-packages\\sklearn\\base.py:493: UserWarning: X does not have valid feature names, but StandardScaler was fitted with feature names\n",
      "  warnings.warn(\n"
     ]
    }
   ],
   "source": [
    "user_input_scaled = loaded_scalar.transform(user_input)"
   ]
  },
  {
   "cell_type": "markdown",
   "id": "600185d1-22f1-4e41-944e-334f8246c5af",
   "metadata": {},
   "source": [
    "### User input - Predictions"
   ]
  },
  {
   "cell_type": "code",
   "execution_count": 8,
   "id": "cffeb066-bc0a-4c34-acf3-bb1aa9b741ab",
   "metadata": {},
   "outputs": [
    {
     "data": {
      "text/plain": [
       "array([42983.53208215])"
      ]
     },
     "execution_count": 8,
     "metadata": {},
     "output_type": "execute_result"
    }
   ],
   "source": [
    "Predictions = loaded_model.predict(user_input_scaled)\n",
    "Predictions"
   ]
  },
  {
   "cell_type": "code",
   "execution_count": null,
   "id": "8febfc07-c9df-4424-812e-23692655ad5e",
   "metadata": {},
   "outputs": [],
   "source": []
  }
 ],
 "metadata": {
  "kernelspec": {
   "display_name": "Python 3 (ipykernel)",
   "language": "python",
   "name": "python3"
  },
  "language_info": {
   "codemirror_mode": {
    "name": "ipython",
    "version": 3
   },
   "file_extension": ".py",
   "mimetype": "text/x-python",
   "name": "python",
   "nbconvert_exporter": "python",
   "pygments_lexer": "ipython3",
   "version": "3.12.4"
  }
 },
 "nbformat": 4,
 "nbformat_minor": 5
}
