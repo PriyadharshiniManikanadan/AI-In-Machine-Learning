{
 "cells": [
  {
   "cell_type": "markdown",
   "id": "8ff89ee4-ebe4-496b-8718-bc19c388b69d",
   "metadata": {},
   "source": [
    "### Deployment (SVM-Input Output prepro) (Method 2)"
   ]
  },
  {
   "cell_type": "markdown",
   "id": "8f434621-d8e6-480d-bf82-b4d78d660f88",
   "metadata": {},
   "source": [
    "### Load the Model"
   ]
  },
  {
   "cell_type": "code",
   "execution_count": 1,
   "id": "4b2b0124-fe53-49a2-babd-12eda3bb3301",
   "metadata": {},
   "outputs": [],
   "source": [
    "import pickle"
   ]
  },
  {
   "cell_type": "code",
   "execution_count": 4,
   "id": "30c7b2c4-1986-43a1-a274-6f54d91e10e2",
   "metadata": {},
   "outputs": [],
   "source": [
    "with open(\"model_scalar.pkl\",'rb') as file:\n",
    "    loaded_Model,loaded_Scalarinput,loaded_Scalaroutput = pickle.load(file)"
   ]
  },
  {
   "cell_type": "markdown",
   "id": "1fadd255-06e0-48ce-a85a-9955c4c3cd45",
   "metadata": {},
   "source": [
    "### Get User Input (For.Ex)"
   ]
  },
  {
   "cell_type": "code",
   "execution_count": 5,
   "id": "c6d9000d-0ca2-4c88-8cf3-14ed23928c94",
   "metadata": {},
   "outputs": [],
   "source": [
    "user_input = [[1254,25666,3256,0,1]]"
   ]
  },
  {
   "cell_type": "markdown",
   "id": "939cb504-ca4a-4267-ad49-7f4f0fdf3707",
   "metadata": {},
   "source": [
    "### Preprocess the user input data"
   ]
  },
  {
   "cell_type": "code",
   "execution_count": 22,
   "id": "a492a601-ee4d-4abd-9900-2bcad259999a",
   "metadata": {},
   "outputs": [
    {
     "name": "stderr",
     "output_type": "stream",
     "text": [
      "C:\\Anaconda3\\Lib\\site-packages\\sklearn\\base.py:493: UserWarning: X does not have valid feature names, but StandardScaler was fitted with feature names\n",
      "  warnings.warn(\n"
     ]
    },
    {
     "data": {
      "text/plain": [
       "array([[-1.52434893, -3.77499666, -1.61092364, -0.57735027,  1.36277029]])"
      ]
     },
     "execution_count": 22,
     "metadata": {},
     "output_type": "execute_result"
    }
   ],
   "source": [
    "user_input_prepro = loaded_Scalarinput.transform(user_input)\n",
    "user_input_prepro"
   ]
  },
  {
   "cell_type": "markdown",
   "id": "afab31a2-5514-453f-8d18-3a6bb275d1c5",
   "metadata": {},
   "source": [
    "### Input to Model"
   ]
  },
  {
   "cell_type": "code",
   "execution_count": 23,
   "id": "e87a7f42-11ab-4339-aaf7-ef06c27bfe82",
   "metadata": {},
   "outputs": [
    {
     "data": {
      "text/plain": [
       "array([-1.5699912])"
      ]
     },
     "execution_count": 23,
     "metadata": {},
     "output_type": "execute_result"
    }
   ],
   "source": [
    "prediction = loaded_Model.predict(user_input_prepro)\n",
    "prediction"
   ]
  },
  {
   "cell_type": "markdown",
   "id": "b303da17-1594-4740-9c4f-a2a321934f79",
   "metadata": {},
   "source": [
    "### Inverse the preprocessed user input data to the Original data"
   ]
  },
  {
   "cell_type": "code",
   "execution_count": 25,
   "id": "53472024-bece-446d-be49-422d9ca67d9e",
   "metadata": {},
   "outputs": [
    {
     "data": {
      "text/plain": [
       "array([[45915.69260715]])"
      ]
     },
     "execution_count": 25,
     "metadata": {},
     "output_type": "execute_result"
    }
   ],
   "source": [
    "Prediction = loaded_Scalaroutput.inverse_transform([prediction])\n",
    "Prediction"
   ]
  },
  {
   "cell_type": "code",
   "execution_count": null,
   "id": "a2d2435e-a4d5-4e0f-8966-229eac7ec68d",
   "metadata": {},
   "outputs": [],
   "source": []
  }
 ],
 "metadata": {
  "kernelspec": {
   "display_name": "Python 3 (ipykernel)",
   "language": "python",
   "name": "python3"
  },
  "language_info": {
   "codemirror_mode": {
    "name": "ipython",
    "version": 3
   },
   "file_extension": ".py",
   "mimetype": "text/x-python",
   "name": "python",
   "nbconvert_exporter": "python",
   "pygments_lexer": "ipython3",
   "version": "3.12.4"
  }
 },
 "nbformat": 4,
 "nbformat_minor": 5
}
